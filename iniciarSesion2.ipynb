{
 "cells": [
  {
   "cell_type": "code",
   "execution_count": 1,
   "metadata": {},
   "outputs": [],
   "source": [
    "import subprocess\n",
    "import json \n",
    "from langchain_ollama.llms import OllamaLLM\n",
    "from langchain.prompts import PromptTemplate\n",
    "from langchain.chains import LLMChain\n",
    "from pydantic import BaseModel, Field,field_validator\n",
    "from langchain_ollama import ChatOllama\n"
   ]
  },
  {
   "cell_type": "code",
   "execution_count": 2,
   "metadata": {},
   "outputs": [],
   "source": [
    "def ejecutar_puppeteer(usuario, contrasena):\n",
    "    print(usuario,contrasena)\n",
    "    try:\n",
    "        # Ejecuta el script Node.js y pasa usuario y contraseña como argumentos\n",
    "        subprocess.run(\n",
    "            [\"/home/bsrosasm/.nvm/versions/node/v20.17.0/bin/node\", \"iniciosesion.js\", usuario, contrasena], \n",
    "            check=True\n",
    "        )\n",
    "        return \"pupeteer conectado de manera eficaz\"\n",
    "    except subprocess.CalledProcessError as e:\n",
    "        return f\"Error al ejecutar Puppeteer: {str(e)}\""
   ]
  },
  {
   "cell_type": "code",
   "execution_count": 3,
   "metadata": {},
   "outputs": [],
   "source": [
    "ll3=ChatOllama(model=\"llama3.1\",temperature=1.5)\n"
   ]
  },
  {
   "cell_type": "code",
   "execution_count": 4,
   "metadata": {},
   "outputs": [],
   "source": [
    "class Usuario(BaseModel):\n",
    "    usuario:str=Field(description=\"usuario\",required=True)\n",
    "    contrasena:str=Field(description=\"contrasena, si es un numero se trendra que hacer la conversion a string\",required=True)\n",
    "    @field_validator(\"contrasena\", mode=\"before\")\n",
    "    def convertir_contrasena_a_string(cls, value):\n",
    "        return str(value)"
   ]
  },
  {
   "cell_type": "code",
   "execution_count": 5,
   "metadata": {},
   "outputs": [],
   "source": [
    "custom_prompt_template = \"\"\"\n",
    "Actúa como un asistente que ayuda a los usuarios con inicios de sesión.\n",
    "El usuario dice: \"{accion}\"\n",
    "\n",
    "Extrae el nombre de usuario y la contraseña que menciona el usuario.\n",
    "Si la información está disponible en la frase, devuélvela de la siguiente forma:\n",
    "- Usuario: [nombre de usuario]\n",
    "- Contraseña: [contraseña]\n",
    "\n",
    "Si no está claro, pidele que la ingrese, si no la ingresa, di que hubo un error y que no pudiste\n",
    "obtener el usuario ni contraseña\"\n",
    "\"\"\"\n"
   ]
  },
  {
   "cell_type": "code",
   "execution_count": 6,
   "metadata": {},
   "outputs": [],
   "source": [
    "prompt=PromptTemplate(template=custom_prompt_template, input_variables=[\"accion\"])"
   ]
  },
  {
   "cell_type": "code",
   "execution_count": 7,
   "metadata": {},
   "outputs": [],
   "source": [
    "structured_llm = ll3.with_structured_output(Usuario)\n",
    "chain = prompt | structured_llm\n"
   ]
  },
  {
   "cell_type": "code",
   "execution_count": 243,
   "metadata": {},
   "outputs": [],
   "source": [
    "#action = \"quiero iniciar sesion, pero no se como,mi contraseña es 123tasd y mi usuario es admin@gmail.com y \"\n",
    "\n",
    "#respuesta = chain.invoke({\"accion\": action})\n",
    "#print(respuesta.usuario)"
   ]
  },
  {
   "cell_type": "code",
   "execution_count": 9,
   "metadata": {},
   "outputs": [
    {
     "name": "stdout",
     "output_type": "stream",
     "text": [
      "Consultando a Ollama...\n",
      "<class 'str'> ¿Por favor ingresa tu nombre de usuario? <class 'str'> ¿Por favor ingresa tu contraseña?\n",
      "¿Por favor ingresa tu nombre de usuario? ¿Por favor ingresa tu contraseña?\n",
      "Inicio de sesión realizado correctamente.\n",
      "Consultando a Ollama...\n",
      "<class 'str'> admin <class 'str'> 1234\n",
      "admin 1234\n",
      "Inicio de sesión realizado correctamente.\n"
     ]
    }
   ],
   "source": [
    "def main():\n",
    "    # Se obtiene la acción inicial\n",
    "    while True:\n",
    "        accion = input(\"Dime qué quieres hacer (escribe 'salir' para terminar): \")\n",
    "\n",
    "        # Salir si el usuario lo indica\n",
    "        if accion.lower() == \"salir\":\n",
    "            break\n",
    "\n",
    "        print(\"Consultando a Ollama...\")\n",
    "        \n",
    "        # Aquí llamas a la cadena para obtener los resultados\n",
    "        respuesta = chain.invoke({\"accion\": str(accion)})  # Suponiendo que respuesta es de tipo Usuario\n",
    "        user = str(respuesta.usuario)  # Acceder al valor de 'usuario'\n",
    "        password = respuesta.contrasena  # Acceder al valor de 'contrasena'\n",
    "        \n",
    "        # Mostrar los tipos y valores\n",
    "        print(type(user), user, type(password), password)\n",
    "\n",
    "    # Verifica si la respuesta tiene los datos correctos\n",
    "        if user and password is not None:\n",
    "            # Ejecutar Puppeteer con los datos obtenidos\n",
    "            resultado = ejecutar_puppeteer(user,password)\n",
    "        else:\n",
    "            print(\"No se pudo obtener el usuario y/o la contraseña. Por favor, proporciona ambos datos.\")\n",
    "        \n",
    "\n",
    "if __name__ == \"__main__\":\n",
    "    main()\n",
    "\n"
   ]
  }
 ],
 "metadata": {
  "kernelspec": {
   "display_name": "Python 3",
   "language": "python",
   "name": "python3"
  },
  "language_info": {
   "codemirror_mode": {
    "name": "ipython",
    "version": 3
   },
   "file_extension": ".py",
   "mimetype": "text/x-python",
   "name": "python",
   "nbconvert_exporter": "python",
   "pygments_lexer": "ipython3",
   "version": "3.10.12"
  }
 },
 "nbformat": 4,
 "nbformat_minor": 2
}
