{
 "cells": [
  {
   "cell_type": "code",
   "execution_count": 1,
   "metadata": {},
   "outputs": [],
   "source": [
    "import subprocess\n",
    "import json \n",
    "from langchain_ollama.llms import OllamaLLM\n",
    "from langchain.prompts import PromptTemplate\n",
    "from langchain.chains import LLMChain"
   ]
  },
  {
   "cell_type": "code",
   "execution_count": 2,
   "metadata": {},
   "outputs": [
    {
     "name": "stdout",
     "output_type": "stream",
     "text": [
      "Versión de Node.js ejecutada desde Python: v12.22.9\n",
      "\n"
     ]
    }
   ],
   "source": [
    "import subprocess\n",
    "\n",
    "try:\n",
    "    result = subprocess.run([\"node\", \"-v\"], check=True, text=True, capture_output=True)\n",
    "    print(f\"Versión de Node.js ejecutada desde Python: {result.stdout}\")\n",
    "except Exception as e:\n",
    "    print(f\"Error al verificar Node.js: {e}\")"
   ]
  },
  {
   "cell_type": "code",
   "execution_count": 3,
   "metadata": {},
   "outputs": [],
   "source": [
    "def ejecutar_puppeteer(usuario, contrasena):\n",
    "    print(usuario,contrasena)\n",
    "    try:\n",
    "        # Ejecuta el script Node.js y pasa usuario y contraseña como argumentos\n",
    "        subprocess.run(\n",
    "            [\"/home/bsrosasm/.nvm/versions/node/v20.17.0/bin/node\", \"iniciosesion.js\", usuario, contrasena], \n",
    "            check=True\n",
    "        )\n",
    "        return \"pupeteer conectado de manera eficaz\"\n",
    "    except subprocess.CalledProcessError as e:\n",
    "        return f\"Error al ejecutar Puppeteer: {str(e)}\""
   ]
  },
  {
   "cell_type": "code",
   "execution_count": 4,
   "metadata": {},
   "outputs": [],
   "source": [
    "custom_prompt_template = \"\"\"\n",
    "Actúa como un asistente que ayuda a los usuarios con inicios de sesión.\n",
    "El usuario dice: \"{accion}\".\n",
    "\n",
    "Si el usuario menciona que desea iniciar sesión, necesita ayuda para iniciar sesión, o proporciona un usuario y contraseña:\n",
    "- Responde confirmando que es posible ayudarle.\n",
    "- Solicita que proporcione su usuario y contraseña separados por una coma.\n",
    "- Devuelve el resultado en el siguiente formato JSON:\n",
    "  {\"usuario\": \"<correo>\", \"contraseña\": \"<contraseña>\"}\n",
    "\n",
    "Si no se cumple ninguna de estas condiciones, responde: \"No estoy configurada para ayudarle en lo que necesita\".\n",
    "\"\"\"\n",
    "prompt=PromptTemplate(template=custom_prompt_template, input_variables=[\"accion\"])"
   ]
  },
  {
   "cell_type": "code",
   "execution_count": 5,
   "metadata": {},
   "outputs": [
    {
     "ename": "NameError",
     "evalue": "name 'll3' is not defined",
     "output_type": "error",
     "traceback": [
      "\u001b[0;31m---------------------------------------------------------------------------\u001b[0m",
      "\u001b[0;31mNameError\u001b[0m                                 Traceback (most recent call last)",
      "Cell \u001b[0;32mIn[5], line 1\u001b[0m\n\u001b[0;32m----> 1\u001b[0m chain \u001b[38;5;241m=\u001b[39m LLMChain(llm\u001b[38;5;241m=\u001b[39m\u001b[43mll3\u001b[49m, prompt\u001b[38;5;241m=\u001b[39mprompt)\n",
      "\u001b[0;31mNameError\u001b[0m: name 'll3' is not defined"
     ]
    }
   ],
   "source": [
    "chain = LLMChain(llm=ll3, prompt=prompt)"
   ]
  },
  {
   "cell_type": "code",
   "execution_count": 25,
   "metadata": {},
   "outputs": [
    {
     "name": "stdout",
     "output_type": "stream",
     "text": [
      "Consultando a Ollama...\n",
      "Error al obtener la respuesta de LangChain: Missing some input keys: {'\"usuario\"'}\n",
      "Consultando a Ollama...\n",
      "Error al obtener la respuesta de LangChain: Missing some input keys: {'\"usuario\"'}\n"
     ]
    }
   ],
   "source": [
    "def main():\n",
    "    while True:\n",
    "        # Input inicial del usuario\n",
    "        accion = input(\"Dime qué quieres hacer (escribe 'salir' para terminar): \")\n",
    "        if accion.lower() == \"salir\":\n",
    "            break\n",
    "\n",
    "        # Obtener la respuesta del modelo usando LangChain\n",
    "        print(\"Consultando a Ollama...\")\n",
    "        respuesta = chain.run(accion)\n",
    "        print(f\"Respuesta de LangChain: \\n{respuesta}\")\n",
    "\n",
    "        # Extraer usuario y contraseña de la respuesta\n",
    "        usuario = None\n",
    "        contrasena = None\n",
    "\n",
    "        try:\n",
    "            # Parsear la respuesta\n",
    "            lines = respuesta.split(\"\\n\")\n",
    "            for line in lines:\n",
    "                if \"Usuario:\" in line:\n",
    "                    usuario = line.split(\":\")[1].strip()  # Extraer usuario\n",
    "                if \"Contraseña:\" in line:\n",
    "                    contrasena = line.split(\":\")[1].strip()  # Extraer contraseña\n",
    "\n",
    "        except Exception as e:\n",
    "            print(f\"Error al parsear la respuesta: {str(e)}\")\n",
    "            continue\n",
    "\n",
    "        # Verificar si se obtuvieron credenciales\n",
    "        if usuario and contrasena:\n",
    "            # Ejecutar la función de Puppeteer\n",
    "            resultado = ejecutar_puppeteer(usuario, contrasena)\n",
    "            print(resultado)\n",
    "        else:\n",
    "            print(\"No se pudo obtener el usuario y/o la contraseña. Por favor, proporciona ambos datos.\")\n",
    "\n",
    "if __name__ == \"__main__\":\n",
    "    main()\n"
   ]
  }
 ],
 "metadata": {
  "kernelspec": {
   "display_name": "Python 3",
   "language": "python",
   "name": "python3"
  },
  "language_info": {
   "codemirror_mode": {
    "name": "ipython",
    "version": 3
   },
   "file_extension": ".py",
   "mimetype": "text/x-python",
   "name": "python",
   "nbconvert_exporter": "python",
   "pygments_lexer": "ipython3",
   "version": "3.10.12"
  }
 },
 "nbformat": 4,
 "nbformat_minor": 2
}
